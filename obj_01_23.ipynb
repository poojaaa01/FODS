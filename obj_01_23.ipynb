{
  "nbformat": 4,
  "nbformat_minor": 0,
  "metadata": {
    "colab": {
      "name": "obj-01/23.ipynb",
      "provenance": [],
      "collapsed_sections": []
    },
    "kernelspec": {
      "name": "python3",
      "display_name": "Python 3"
    },
    "language_info": {
      "name": "python"
    }
  },
  "cells": [
    {
      "cell_type": "code",
      "execution_count": 2,
      "metadata": {
        "id": "4-GWU4IG-rPM"
      },
      "outputs": [],
      "source": [
        "#default constructor\n",
        "class Student:\n",
        "  def __init__(self):\n",
        "    pass"
      ]
    },
    {
      "cell_type": "code",
      "source": [
        "s1=Student()"
      ],
      "metadata": {
        "id": "VuVyTS5U_7aV"
      },
      "execution_count": 3,
      "outputs": []
    },
    {
      "cell_type": "code",
      "source": [
        "class Student:\n",
        "  def __init__(self,age,name):\n",
        "    self.age=age\n",
        "    self.name=name\n",
        "  def display(self):\n",
        "    print(\"age=\",self.age, \"name=\",self.name)"
      ],
      "metadata": {
        "id": "gZrKb5CtAtSt"
      },
      "execution_count": 8,
      "outputs": []
    },
    {
      "cell_type": "code",
      "source": [
        "s2=Student(19, 'Pooja')\n",
        "s2.display()"
      ],
      "metadata": {
        "colab": {
          "base_uri": "https://localhost:8080/"
        },
        "id": "qVSO5qWSA1JD",
        "outputId": "55cef4b2-95c4-4999-ae13-25cfd886a98b"
      },
      "execution_count": 7,
      "outputs": [
        {
          "output_type": "stream",
          "name": "stdout",
          "text": [
            "19 Pooja\n"
          ]
        }
      ]
    },
    {
      "cell_type": "code",
      "source": [
        "class Student:\n",
        "  def __init__(self,name,age):\n",
        "    self.name=name\n",
        "    self.age=age\n",
        "  def display(self):\n",
        "    print(self.name,self.age)\n"
      ],
      "metadata": {
        "id": "gFbynwkGA5n6"
      },
      "execution_count": 12,
      "outputs": []
    },
    {
      "cell_type": "code",
      "source": [
        "class Girls(Student):\n",
        "  def __init__(self,makeup):\n",
        "    self.makeup=makeup\n",
        "  def disp(self):\n",
        "    print(self.makeup)"
      ],
      "metadata": {
        "id": "5xw6MPD6CW9m"
      },
      "execution_count": 22,
      "outputs": []
    },
    {
      "cell_type": "code",
      "source": [
        "g1=Girls('Rose','20')"
      ],
      "metadata": {
        "colab": {
          "base_uri": "https://localhost:8080/",
          "height": 170
        },
        "id": "y-41n7iLCZ_7",
        "outputId": "734eef6b-19f1-416b-c691-41d2a873016d"
      },
      "execution_count": 23,
      "outputs": [
        {
          "output_type": "error",
          "ename": "TypeError",
          "evalue": "ignored",
          "traceback": [
            "\u001b[0;31m---------------------------------------------------------------------------\u001b[0m",
            "\u001b[0;31mTypeError\u001b[0m                                 Traceback (most recent call last)",
            "\u001b[0;32m<ipython-input-23-549b4ce5788f>\u001b[0m in \u001b[0;36m<module>\u001b[0;34m()\u001b[0m\n\u001b[0;32m----> 1\u001b[0;31m \u001b[0mg1\u001b[0m\u001b[0;34m=\u001b[0m\u001b[0mGirls\u001b[0m\u001b[0;34m(\u001b[0m\u001b[0;34m'Rose'\u001b[0m\u001b[0;34m,\u001b[0m\u001b[0;34m'20'\u001b[0m\u001b[0;34m)\u001b[0m\u001b[0;34m\u001b[0m\u001b[0;34m\u001b[0m\u001b[0m\n\u001b[0m",
            "\u001b[0;31mTypeError\u001b[0m: __init__() takes 2 positional arguments but 3 were given"
          ]
        }
      ]
    },
    {
      "cell_type": "code",
      "source": [
        "g1.display()"
      ],
      "metadata": {
        "colab": {
          "base_uri": "https://localhost:8080/"
        },
        "id": "s6LdaCnbCcHb",
        "outputId": "1831ce44-8d08-4669-b86e-e02d3b715dc8"
      },
      "execution_count": 24,
      "outputs": [
        {
          "output_type": "stream",
          "name": "stdout",
          "text": [
            "Rose 20\n"
          ]
        }
      ]
    },
    {
      "cell_type": "code",
      "source": [
        ""
      ],
      "metadata": {
        "id": "iuQLltLKC8kk"
      },
      "execution_count": null,
      "outputs": []
    }
  ]
}