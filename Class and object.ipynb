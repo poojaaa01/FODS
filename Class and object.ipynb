{
 "cells": [
  {
   "cell_type": "code",
   "execution_count": 1,
   "id": "a38ffdbb",
   "metadata": {},
   "outputs": [],
   "source": [
    "class Student:\n",
    "    def __init__(self):\n",
    "        pass\n",
    "    def show(self):\n",
    "        print(\"Hello\")"
   ]
  },
  {
   "cell_type": "code",
   "execution_count": 2,
   "id": "6d7726b8",
   "metadata": {},
   "outputs": [],
   "source": [
    "Pooja=Student()\n",
    "Anika=Student()"
   ]
  },
  {
   "cell_type": "code",
   "execution_count": 3,
   "id": "50043b1e",
   "metadata": {},
   "outputs": [
    {
     "name": "stdout",
     "output_type": "stream",
     "text": [
      "Hello\n"
     ]
    }
   ],
   "source": [
    "Pooja.show()"
   ]
  },
  {
   "cell_type": "code",
   "execution_count": 4,
   "id": "6c759383",
   "metadata": {},
   "outputs": [
    {
     "name": "stdout",
     "output_type": "stream",
     "text": [
      "Hello\n"
     ]
    }
   ],
   "source": [
    "Anika.show()"
   ]
  },
  {
   "cell_type": "code",
   "execution_count": 19,
   "id": "3ba4e484",
   "metadata": {},
   "outputs": [],
   "source": [
    "class Student:\n",
    "    school_name = 'The British College'\n",
    "    def __init__(self, id, name, address, phoneno):\n",
    "        self.id=id\n",
    "        self.name=name\n",
    "        self.address=address\n",
    "        self.phoneno=phoneno\n",
    "    def show(self):\n",
    "        print(self.id, self.name, self.address, self.phoneno)\n",
    "    "
   ]
  },
  {
   "cell_type": "code",
   "execution_count": 20,
   "id": "ac71b4d3",
   "metadata": {},
   "outputs": [],
   "source": [
    "s1=Student(1, 'Pooja', 'TBC','9860273691')"
   ]
  },
  {
   "cell_type": "code",
   "execution_count": 21,
   "id": "d6b78964",
   "metadata": {},
   "outputs": [
    {
     "name": "stdout",
     "output_type": "stream",
     "text": [
      "The British College\n",
      "1 Pooja TBC 9860273691\n"
     ]
    }
   ],
   "source": [
    "print(Student.school_name)\n",
    "s1.show()"
   ]
  },
  {
   "cell_type": "code",
   "execution_count": 23,
   "id": "dbc98a66",
   "metadata": {},
   "outputs": [],
   "source": [
    "class Vehicle:\n",
    "    def Vehicle_info(self):\n",
    "        print('Inside Vehicle Class')"
   ]
  },
  {
   "cell_type": "code",
   "execution_count": 24,
   "id": "2ef054e2",
   "metadata": {},
   "outputs": [],
   "source": [
    "class Car(Vehicle):\n",
    "    def car_info(self):\n",
    "        print('Inside Car Class')"
   ]
  },
  {
   "cell_type": "code",
   "execution_count": 25,
   "id": "df5dad06",
   "metadata": {},
   "outputs": [],
   "source": [
    "car = Car()"
   ]
  },
  {
   "cell_type": "code",
   "execution_count": 26,
   "id": "f23e55ad",
   "metadata": {},
   "outputs": [
    {
     "name": "stdout",
     "output_type": "stream",
     "text": [
      "Inside Vehicle Class\n",
      "Inside Car Class\n"
     ]
    }
   ],
   "source": [
    "car.Vehicle_info()\n",
    "car.car_info()"
   ]
  },
  {
   "cell_type": "code",
   "execution_count": 30,
   "id": "2af23da2",
   "metadata": {},
   "outputs": [
    {
     "name": "stdout",
     "output_type": "stream",
     "text": [
      "Person Class--\n",
      "Name: Pooja Age: 19\n",
      "Comapny Class--\n",
      "Name: Apple location: California\n",
      "Employee Class--\n",
      "Salary: 120000 Skill: Programming\n"
     ]
    }
   ],
   "source": [
    "class Person:\n",
    "    def person_info(self, name, age):\n",
    "        print('Person Class--')\n",
    "        print('Name:',name, 'Age:', age)\n",
    "        \n",
    "class Company:\n",
    "    def company_info(self, company_name, location):\n",
    "        print('Comapny Class--')\n",
    "        print('Name:', company_name, 'location:', location)\n",
    "        \n",
    "class Employee(Person, Company):\n",
    "    def Employee_info(self, salary, skill):\n",
    "        print('Employee Class--')\n",
    "        print('Salary:', salary, 'Skill:', skill)\n",
    "        \n",
    "emp=Employee()\n",
    "\n",
    "emp.person_info('Pooja', 19)\n",
    "emp.company_info('Apple', 'California')\n",
    "emp.Employee_info(120000, 'Programming')"
   ]
  }
 ],
 "metadata": {
  "kernelspec": {
   "display_name": "Python 3 (ipykernel)",
   "language": "python",
   "name": "python3"
  },
  "language_info": {
   "codemirror_mode": {
    "name": "ipython",
    "version": 3
   },
   "file_extension": ".py",
   "mimetype": "text/x-python",
   "name": "python",
   "nbconvert_exporter": "python",
   "pygments_lexer": "ipython3",
   "version": "3.9.7"
  }
 },
 "nbformat": 4,
 "nbformat_minor": 5
}
