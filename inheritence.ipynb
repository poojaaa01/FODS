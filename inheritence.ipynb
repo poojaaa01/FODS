{
  "nbformat": 4,
  "nbformat_minor": 0,
  "metadata": {
    "colab": {
      "name": "inheritence.ipynb",
      "provenance": []
    },
    "kernelspec": {
      "name": "python3",
      "display_name": "Python 3"
    },
    "language_info": {
      "name": "python"
    }
  },
  "cells": [
    {
      "cell_type": "code",
      "source": [
        "class Employee:\n",
        "  def func_msg(self):\n",
        "    print('Welcome to Employee Class')\n",
        "\n",
        "class Department(Employee):\n",
        "  pass\n",
        "\n",
        "emp = Employee()\n",
        "emp.func_msg()\n",
        "\n",
        "print('------')\n",
        "dept = Department()\n",
        "dept.func_msg()"
      ],
      "metadata": {
        "colab": {
          "base_uri": "https://localhost:8080/"
        },
        "id": "kkGlI8ewnXpu",
        "outputId": "dc10ada8-c181-4cb2-9b46-380a93125c19"
      },
      "execution_count": null,
      "outputs": [
        {
          "output_type": "stream",
          "name": "stdout",
          "text": [
            "Welcome to Employee Class\n",
            "------\n",
            "Welcome to Employee Class\n"
          ]
        }
      ]
    }
  ]
}